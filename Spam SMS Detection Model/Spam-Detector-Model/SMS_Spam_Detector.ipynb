{
  "nbformat": 4,
  "nbformat_minor": 0,
  "metadata": {
    "colab": {
      "name": "SMS Spam Detector",
      "provenance": [],
      "collapsed_sections": []
    },
    "kernelspec": {
      "name": "python3",
      "display_name": "Python 3"
    }
  },
  "cells": [
    {
      "cell_type": "markdown",
      "metadata": {
        "id": "mFvF7x0m92bv"
      },
      "source": [
        "# **Spam Detection Model**"
      ]
    },
    {
      "cell_type": "markdown",
      "metadata": {
        "id": "1qZ-MWB7JmT9"
      },
      "source": [
        "## Mounting the Google Drive"
      ]
    },
    {
      "cell_type": "code",
      "metadata": {
        "id": "zEp0aKZaucTa",
        "colab": {
          "base_uri": "https://localhost:8080/"
        },
        "outputId": "dee1a1a3-f673-4ddf-bd69-a3d3292efdd0"
      },
      "source": [
        "from google.colab import drive\n",
        "drive.mount(\"/gdrive\")"
      ],
      "execution_count": 1,
      "outputs": [
        {
          "output_type": "stream",
          "text": [
            "Drive already mounted at /gdrive; to attempt to forcibly remount, call drive.mount(\"/gdrive\", force_remount=True).\n"
          ],
          "name": "stdout"
        }
      ]
    },
    {
      "cell_type": "markdown",
      "metadata": {
        "id": "9vtwCzDU9wvE"
      },
      "source": [
        "Loacting Dataset inside the drive"
      ]
    },
    {
      "cell_type": "code",
      "metadata": {
        "id": "FZ4FeFy-z-3l",
        "colab": {
          "base_uri": "https://localhost:8080/"
        },
        "outputId": "c7de2aff-9333-4fce-92c7-a1aebac4442d"
      },
      "source": [
        "# This means my dataset is in the G-Drive -> My Drive -> SpamSMS.\n",
        "%cd /gdrive/My Drive/SpamSMS"
      ],
      "execution_count": 2,
      "outputs": [
        {
          "output_type": "stream",
          "text": [
            "/gdrive/My Drive/SpamSMS\n"
          ],
          "name": "stdout"
        }
      ]
    },
    {
      "cell_type": "code",
      "metadata": {
        "colab": {
          "base_uri": "https://localhost:8080/"
        },
        "id": "Ec_daNUx-7Yy",
        "outputId": "1198f8d9-0102-47cc-eca2-361778469318"
      },
      "source": [
        "# So, my SpamSMS folder has below mentioned files\n",
        "!ls"
      ],
      "execution_count": 3,
      "outputs": [
        {
          "output_type": "stream",
          "text": [
            "test_data.csv  training_data.csv\n"
          ],
          "name": "stdout"
        }
      ]
    },
    {
      "cell_type": "markdown",
      "metadata": {
        "id": "KD6yR5SN-Kcj"
      },
      "source": [
        "## Loading Dataset"
      ]
    },
    {
      "cell_type": "code",
      "metadata": {
        "id": "AEUzJD9lOFF8"
      },
      "source": [
        "import pandas as pd"
      ],
      "execution_count": 4,
      "outputs": []
    },
    {
      "cell_type": "code",
      "metadata": {
        "id": "0wVkFH9a2AnF"
      },
      "source": [
        "data = pd.read_csv('training_data.csv', header= None, names=[\"sms\", \"label\"])"
      ],
      "execution_count": 5,
      "outputs": []
    },
    {
      "cell_type": "code",
      "metadata": {
        "colab": {
          "base_uri": "https://localhost:8080/",
          "height": 225
        },
        "id": "yNU4IY2zAE5u",
        "outputId": "77687f5e-929d-4f8a-b092-68f1878502aa"
      },
      "source": [
        "# shows 6 sample lines of the data\n",
        "data.sample(6)"
      ],
      "execution_count": 6,
      "outputs": [
        {
          "output_type": "execute_result",
          "data": {
            "text/html": [
              "<div>\n",
              "<style scoped>\n",
              "    .dataframe tbody tr th:only-of-type {\n",
              "        vertical-align: middle;\n",
              "    }\n",
              "\n",
              "    .dataframe tbody tr th {\n",
              "        vertical-align: top;\n",
              "    }\n",
              "\n",
              "    .dataframe thead th {\n",
              "        text-align: right;\n",
              "    }\n",
              "</style>\n",
              "<table border=\"1\" class=\"dataframe\">\n",
              "  <thead>\n",
              "    <tr style=\"text-align: right;\">\n",
              "      <th></th>\n",
              "      <th>sms</th>\n",
              "      <th>label</th>\n",
              "    </tr>\n",
              "  </thead>\n",
              "  <tbody>\n",
              "    <tr>\n",
              "      <th>3545</th>\n",
              "      <td>Hey babe, sorry i didn't get sooner. Gary can ...</td>\n",
              "      <td>ham</td>\n",
              "    </tr>\n",
              "    <tr>\n",
              "      <th>1140</th>\n",
              "      <td>Dear :-/ why you mood off. I cant drive so i b...</td>\n",
              "      <td>ham</td>\n",
              "    </tr>\n",
              "    <tr>\n",
              "      <th>697</th>\n",
              "      <td>8 at the latest, g's still there if you can sc...</td>\n",
              "      <td>ham</td>\n",
              "    </tr>\n",
              "    <tr>\n",
              "      <th>2425</th>\n",
              "      <td>Company is very good.environment is terrific a...</td>\n",
              "      <td>ham</td>\n",
              "    </tr>\n",
              "    <tr>\n",
              "      <th>480</th>\n",
              "      <td>Dear Subscriber ur draw 4 £100 gift voucher wi...</td>\n",
              "      <td>spam</td>\n",
              "    </tr>\n",
              "    <tr>\n",
              "      <th>3170</th>\n",
              "      <td>So u gonna get deus ex?</td>\n",
              "      <td>ham</td>\n",
              "    </tr>\n",
              "  </tbody>\n",
              "</table>\n",
              "</div>"
            ],
            "text/plain": [
              "                                                    sms label\n",
              "3545  Hey babe, sorry i didn't get sooner. Gary can ...   ham\n",
              "1140  Dear :-/ why you mood off. I cant drive so i b...   ham\n",
              "697   8 at the latest, g's still there if you can sc...   ham\n",
              "2425  Company is very good.environment is terrific a...   ham\n",
              "480   Dear Subscriber ur draw 4 £100 gift voucher wi...  spam\n",
              "3170                            So u gonna get deus ex?   ham"
            ]
          },
          "metadata": {
            "tags": []
          },
          "execution_count": 6
        }
      ]
    },
    {
      "cell_type": "markdown",
      "metadata": {
        "id": "Nh0KycTIRDEw"
      },
      "source": [
        "## PRE-PROCESSING"
      ]
    },
    {
      "cell_type": "code",
      "metadata": {
        "id": "OCBReDy_RH-n",
        "colab": {
          "base_uri": "https://localhost:8080/"
        },
        "outputId": "4e1285c9-4fb8-4334-e3da-f25063961168"
      },
      "source": [
        "import string\n",
        "import nltk\n",
        "nltk.download('stopwords')\n",
        "nltk.download('punkt')\n",
        "\n",
        "stopwords = nltk.corpus.stopwords.words('english')\n",
        "punctuation = string.punctuation\n",
        "\n",
        "print(stopwords[:6])\n",
        "print(punctuation)"
      ],
      "execution_count": 7,
      "outputs": [
        {
          "output_type": "stream",
          "text": [
            "[nltk_data] Downloading package stopwords to /root/nltk_data...\n",
            "[nltk_data]   Package stopwords is already up-to-date!\n",
            "[nltk_data] Downloading package punkt to /root/nltk_data...\n",
            "[nltk_data]   Package punkt is already up-to-date!\n",
            "['i', 'me', 'my', 'myself', 'we', 'our']\n",
            "!\"#$%&'()*+,-./:;<=>?@[\\]^_`{|}~\n"
          ],
          "name": "stdout"
        }
      ]
    },
    {
      "cell_type": "code",
      "metadata": {
        "id": "FK2WwvNQTQuq",
        "colab": {
          "base_uri": "https://localhost:8080/",
          "height": 195
        },
        "outputId": "7a869f32-fa99-49b7-a85d-bd3e7e378cf1"
      },
      "source": [
        "#Pre-Processing and removing unnecesssary Punctuations\n",
        "\n",
        "def pre_process(sms):\n",
        "  remove_punct = \"\".join([word.lower() for word in sms if word not in punctuation])\n",
        "  tokenize = nltk.tokenize.word_tokenize(remove_punct)\n",
        "  remove_stopwords = [word for word in tokenize if word not in stopwords]\n",
        "  return remove_stopwords\n",
        "\n",
        "data['processed'] = data['sms'].apply(lambda x: pre_process(x))\n",
        "data.head()"
      ],
      "execution_count": 8,
      "outputs": [
        {
          "output_type": "execute_result",
          "data": {
            "text/html": [
              "<div>\n",
              "<style scoped>\n",
              "    .dataframe tbody tr th:only-of-type {\n",
              "        vertical-align: middle;\n",
              "    }\n",
              "\n",
              "    .dataframe tbody tr th {\n",
              "        vertical-align: top;\n",
              "    }\n",
              "\n",
              "    .dataframe thead th {\n",
              "        text-align: right;\n",
              "    }\n",
              "</style>\n",
              "<table border=\"1\" class=\"dataframe\">\n",
              "  <thead>\n",
              "    <tr style=\"text-align: right;\">\n",
              "      <th></th>\n",
              "      <th>sms</th>\n",
              "      <th>label</th>\n",
              "      <th>processed</th>\n",
              "    </tr>\n",
              "  </thead>\n",
              "  <tbody>\n",
              "    <tr>\n",
              "      <th>0</th>\n",
              "      <td>msg_text</td>\n",
              "      <td>ham_or_spam</td>\n",
              "      <td>[msgtext]</td>\n",
              "    </tr>\n",
              "    <tr>\n",
              "      <th>1</th>\n",
              "      <td>Haha better late than ever, any way I could sw...</td>\n",
              "      <td>ham</td>\n",
              "      <td>[haha, better, late, ever, way, could, swing]</td>\n",
              "    </tr>\n",
              "    <tr>\n",
              "      <th>2</th>\n",
              "      <td>Thanks a lot for your wishes on my birthday. T...</td>\n",
              "      <td>ham</td>\n",
              "      <td>[thanks, lot, wishes, birthday, thanks, making...</td>\n",
              "    </tr>\n",
              "    <tr>\n",
              "      <th>3</th>\n",
              "      <td>A guy who gets used but is too dumb to realize...</td>\n",
              "      <td>ham</td>\n",
              "      <td>[guy, gets, used, dumb, realize]</td>\n",
              "    </tr>\n",
              "    <tr>\n",
              "      <th>4</th>\n",
              "      <td>Talk sexy!! Make new friends or fall in love i...</td>\n",
              "      <td>spam</td>\n",
              "      <td>[talk, sexy, make, new, friends, fall, love, w...</td>\n",
              "    </tr>\n",
              "  </tbody>\n",
              "</table>\n",
              "</div>"
            ],
            "text/plain": [
              "                                                 sms  ...                                          processed\n",
              "0                                           msg_text  ...                                          [msgtext]\n",
              "1  Haha better late than ever, any way I could sw...  ...      [haha, better, late, ever, way, could, swing]\n",
              "2  Thanks a lot for your wishes on my birthday. T...  ...  [thanks, lot, wishes, birthday, thanks, making...\n",
              "3  A guy who gets used but is too dumb to realize...  ...                   [guy, gets, used, dumb, realize]\n",
              "4  Talk sexy!! Make new friends or fall in love i...  ...  [talk, sexy, make, new, friends, fall, love, w...\n",
              "\n",
              "[5 rows x 3 columns]"
            ]
          },
          "metadata": {
            "tags": []
          },
          "execution_count": 8
        }
      ]
    },
    {
      "cell_type": "markdown",
      "metadata": {
        "id": "UZ3iC-hgX96p"
      },
      "source": [
        "## Seperating Ham/Spam Words"
      ]
    },
    {
      "cell_type": "code",
      "metadata": {
        "id": "9TuUOlYzX6Hh",
        "colab": {
          "base_uri": "https://localhost:8080/"
        },
        "outputId": "f0763826-beb7-41d6-96dc-5824d1d5d487"
      },
      "source": [
        "def categorize_words():\n",
        "    spam_words = []\n",
        "    ham_words = []\n",
        "#dealing messages associated with spam\n",
        "    for sms in data['processed'][data['label'] == 'spam']:\n",
        "        for word in sms:\n",
        "            spam_words.append(word)\n",
        "#dealing messages associated with ham\n",
        "    for sms in data['processed'][data['label'] == 'ham']:\n",
        "        for word in sms:\n",
        "            ham_words.append(word)\n",
        "    return spam_words, ham_words\n",
        "\n",
        "spam_words, ham_words = categorize_words()\n",
        "\n",
        "print(spam_words[:8])\n",
        "print(ham_words[:8])"
      ],
      "execution_count": 9,
      "outputs": [
        {
          "output_type": "stream",
          "text": [
            "['talk', 'sexy', 'make', 'new', 'friends', 'fall', 'love', 'worlds']\n",
            "['haha', 'better', 'late', 'ever', 'way', 'could', 'swing', 'thanks']\n"
          ],
          "name": "stdout"
        }
      ]
    },
    {
      "cell_type": "markdown",
      "metadata": {
        "id": "PdmMXOLEYxlE"
      },
      "source": [
        "## Using Predict Function"
      ]
    },
    {
      "cell_type": "code",
      "metadata": {
        "id": "aI7wm3cdY11i"
      },
      "source": [
        "def predict(sms):\n",
        "  spam_counter = 0\n",
        "  ham_counter = 0\n",
        "#count the occurances of each word in the sms string\n",
        "  for word in sms:\n",
        "    spam_counter += spam_words.count(word)\n",
        "    ham_counter += ham_words.count(word)\n",
        "  print('\\n******RESULT******\\n')\n",
        "#if the text message is ham\n",
        "  if ham_counter > spam_counter:\n",
        "    accuracy =round((ham_counter/(ham_counter + spam_counter)) * 100,2)\n",
        "    print('messege is not spam, with {}% assurance'.format(accuracy))\n",
        "#if the text message could be spam and ham\n",
        "  elif ham_counter == spam_counter:\n",
        "    print('message could be spam')\n",
        "#if the text message is spam\n",
        "  else:\n",
        "    accuracy = round((spam_counter / (ham_counter + spam_counter))* 100,2)\n",
        "    print('message is spam, with {}% assurance'.format(accuracy))"
      ],
      "execution_count": 10,
      "outputs": []
    },
    {
      "cell_type": "markdown",
      "metadata": {
        "id": "6G-s5w1gZyVk"
      },
      "source": [
        "## Taking the User Input"
      ]
    },
    {
      "cell_type": "code",
      "metadata": {
        "id": "nBRmY5y2Z1W0",
        "colab": {
          "base_uri": "https://localhost:8080/"
        },
        "outputId": "14cbeabe-fc46-47f6-9c49-5f7f771ac62c"
      },
      "source": [
        "# 1. Message Testing\n",
        "\n",
        "user_input = input(\"Please type a spam or ham message\\n\")\n",
        "#pre-processing the input before prediction\n",
        "processed_input = pre_process(user_input)\n",
        "\n",
        "predict(processed_input)"
      ],
      "execution_count": 11,
      "outputs": [
        {
          "output_type": "stream",
          "text": [
            "Please type a spam or ham message\n",
            "Hello, How are you?\n",
            "\n",
            "******RESULT******\n",
            "\n",
            "messege is not spam, with 95.35% assurance\n"
          ],
          "name": "stdout"
        }
      ]
    }
  ]
}