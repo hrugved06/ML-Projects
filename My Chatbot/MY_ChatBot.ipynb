{
  "nbformat": 4,
  "nbformat_minor": 0,
  "metadata": {
    "colab": {
      "name": " MY ChatBot.ipynb",
      "provenance": [],
      "authorship_tag": "ABX9TyP1oEXrD8fFiiJfZbxFRfnW",
      "include_colab_link": true
    },
    "kernelspec": {
      "name": "python3",
      "display_name": "Python 3"
    }
  },
  "cells": [
    {
      "cell_type": "markdown",
      "metadata": {
        "id": "view-in-github",
        "colab_type": "text"
      },
      "source": [
        "<a href=\"https://colab.research.google.com/github/hrugved-143/code-hk/blob/master/MY_ChatBot.ipynb\" target=\"_parent\"><img src=\"https://colab.research.google.com/assets/colab-badge.svg\" alt=\"Open In Colab\"/></a>"
      ]
    },
    {
      "cell_type": "code",
      "metadata": {
        "id": "jjpN975DCReE",
        "colab_type": "code",
        "outputId": "ba2f77e1-1835-4518-be5d-61af03eab837",
        "colab": {
          "base_uri": "https://localhost:8080/",
          "height": 388
        }
      },
      "source": [
        "pip install gtts"
      ],
      "execution_count": 2,
      "outputs": [
        {
          "output_type": "stream",
          "text": [
            "Collecting gtts\n",
            "  Downloading https://files.pythonhosted.org/packages/b5/e7/29f8d334627629aa842ecd13a77c82c5419de849c53e906f472ce7e0c768/gTTS-2.1.0-py3-none-any.whl\n",
            "Collecting gtts-token>=1.1.3\n",
            "  Downloading https://files.pythonhosted.org/packages/e7/25/ca6e9cd3275bfc3097fe6b06cc31db6d3dfaf32e032e0f73fead9c9a03ce/gTTS-token-1.1.3.tar.gz\n",
            "Requirement already satisfied: beautifulsoup4 in /usr/local/lib/python3.6/dist-packages (from gtts) (4.6.3)\n",
            "Requirement already satisfied: click in /usr/local/lib/python3.6/dist-packages (from gtts) (7.0)\n",
            "Requirement already satisfied: six in /usr/local/lib/python3.6/dist-packages (from gtts) (1.12.0)\n",
            "Requirement already satisfied: requests in /usr/local/lib/python3.6/dist-packages (from gtts) (2.21.0)\n",
            "Requirement already satisfied: urllib3<1.25,>=1.21.1 in /usr/local/lib/python3.6/dist-packages (from requests->gtts) (1.24.3)\n",
            "Requirement already satisfied: chardet<3.1.0,>=3.0.2 in /usr/local/lib/python3.6/dist-packages (from requests->gtts) (3.0.4)\n",
            "Requirement already satisfied: idna<2.9,>=2.5 in /usr/local/lib/python3.6/dist-packages (from requests->gtts) (2.8)\n",
            "Requirement already satisfied: certifi>=2017.4.17 in /usr/local/lib/python3.6/dist-packages (from requests->gtts) (2019.11.28)\n",
            "Building wheels for collected packages: gtts-token\n",
            "  Building wheel for gtts-token (setup.py) ... \u001b[?25l\u001b[?25hdone\n",
            "  Created wheel for gtts-token: filename=gTTS_token-1.1.3-cp36-none-any.whl size=4097 sha256=4efcebb64596f6273761d4ac03110860b278f066ff4a3a3221daaf2a5d946d38\n",
            "  Stored in directory: /root/.cache/pip/wheels/dd/11/61/33f7e51bf545e910552b2255eead2a7cd8ef54064b46dceb34\n",
            "Successfully built gtts-token\n",
            "Installing collected packages: gtts-token, gtts\n",
            "Successfully installed gtts-2.1.0 gtts-token-1.1.3\n"
          ],
          "name": "stdout"
        }
      ]
    },
    {
      "cell_type": "code",
      "metadata": {
        "id": "pHXtXlEQJgo6",
        "colab_type": "code",
        "outputId": "76419b7e-11bd-403c-f466-dcdfd2b81231",
        "colab": {
          "base_uri": "https://localhost:8080/",
          "height": 129
        }
      },
      "source": [
        "pip install SpeechRecognition"
      ],
      "execution_count": 3,
      "outputs": [
        {
          "output_type": "stream",
          "text": [
            "Collecting SpeechRecognition\n",
            "\u001b[?25l  Downloading https://files.pythonhosted.org/packages/26/e1/7f5678cd94ec1234269d23756dbdaa4c8cfaed973412f88ae8adf7893a50/SpeechRecognition-3.8.1-py2.py3-none-any.whl (32.8MB)\n",
            "\u001b[K     |████████████████████████████████| 32.8MB 125kB/s \n",
            "\u001b[?25hInstalling collected packages: SpeechRecognition\n",
            "Successfully installed SpeechRecognition-3.8.1\n"
          ],
          "name": "stdout"
        }
      ]
    },
    {
      "cell_type": "code",
      "metadata": {
        "id": "E0b1HDHeJocA",
        "colab_type": "code",
        "colab": {}
      },
      "source": [
        "from gtts import gTTS\n",
        "import os\n",
        "import random"
      ],
      "execution_count": 0,
      "outputs": []
    },
    {
      "cell_type": "markdown",
      "metadata": {
        "id": "vu6r6s8DCkpz",
        "colab_type": "text"
      },
      "source": [
        "**Setting up the interface**"
      ]
    },
    {
      "cell_type": "code",
      "metadata": {
        "id": "7WFXismXCpbS",
        "colab_type": "code",
        "colab": {}
      },
      "source": [
        "bot_temp = \"Raven: {0}\"\n",
        "user_temp = \"HrugVed : {0}\""
      ],
      "execution_count": 0,
      "outputs": []
    },
    {
      "cell_type": "markdown",
      "metadata": {
        "id": "MyWAb5DIDciv",
        "colab_type": "text"
      },
      "source": [
        "**Echo Bot1**"
      ]
    },
    {
      "cell_type": "code",
      "metadata": {
        "id": "1jxKSXGaDbqW",
        "colab_type": "code",
        "colab": {}
      },
      "source": [
        "def respond(message):\n",
        "  bot_message = \"Hi, I am RaVen how can I help you:\" + message\n",
        "  return bot_message"
      ],
      "execution_count": 0,
      "outputs": []
    },
    {
      "cell_type": "code",
      "metadata": {
        "id": "gT8oJEIREEbs",
        "colab_type": "code",
        "colab": {}
      },
      "source": [
        "def send_message(message):\n",
        "  #print the user template including the user_message\n",
        "  print(user_temp.format(message))\n",
        "  #get the bots's responce\n",
        "  response = respond(message)\n",
        "  # Print the bot template including the bot's response.\n",
        "  print(bot_temp.format(response))\n",
        " "
      ],
      "execution_count": 0,
      "outputs": []
    },
    {
      "cell_type": "code",
      "metadata": {
        "id": "0hERsmiUE7eZ",
        "colab_type": "code",
        "outputId": "8c27b37e-c535-4714-9ea5-e2160ad9d537",
        "colab": {
          "base_uri": "https://localhost:8080/",
          "height": 54
        }
      },
      "source": [
        "#testing the bot\n",
        "send_message(\"I am HrugVed\")"
      ],
      "execution_count": 8,
      "outputs": [
        {
          "output_type": "stream",
          "text": [
            "HrugVed : I am HrugVed\n",
            "Raven: Hi, I am RaVen how can I help you:I am HrugVed\n"
          ],
          "name": "stdout"
        }
      ]
    },
    {
      "cell_type": "code",
      "metadata": {
        "id": "L49y3SdTF388",
        "colab_type": "code",
        "colab": {}
      },
      "source": [
        "name = \"RaVen\"\n",
        "creator = \"HrugVed\""
      ],
      "execution_count": 0,
      "outputs": []
    },
    {
      "cell_type": "code",
      "metadata": {
        "id": "8TDFKL11Fpks",
        "colab_type": "code",
        "colab": {}
      },
      "source": [
        "def respond(message):\n",
        "  print(user_temp.format(message))\n",
        "  responses= {\"What's your name?\" : \"My name is {0}\".format(name), \"What's the weather today?\": \"It may rain today\", \"Who created you?\": \"I was created by {0}\". format(creator) }\n",
        "  def rr(message):\n",
        "    if message in responses:\n",
        "      return bot_temp.format(responses[message])\n",
        "    else:\n",
        "      if message.endswith(\"?\"):\n",
        "        # Return a random question\n",
        "        return bot_temp.format(\"Sorry! I don't know that one\")\n",
        "      else:\n",
        "        return bot_temp.format(\"I will definately help you later\")\n",
        "  return rr(message)\n",
        "\n"
      ],
      "execution_count": 0,
      "outputs": []
    },
    {
      "cell_type": "code",
      "metadata": {
        "id": "zyJo0suqG8uP",
        "colab_type": "code",
        "outputId": "41713ea8-dc25-4bbc-bca8-c5af2e6141b6",
        "colab": {
          "base_uri": "https://localhost:8080/",
          "height": 54
        }
      },
      "source": [
        "respond(\"What's your name?\")"
      ],
      "execution_count": 11,
      "outputs": [
        {
          "output_type": "stream",
          "text": [
            "HrugVed : What's your name?\n"
          ],
          "name": "stdout"
        },
        {
          "output_type": "execute_result",
          "data": {
            "text/plain": [
              "'Raven: My name is RaVen'"
            ]
          },
          "metadata": {
            "tags": []
          },
          "execution_count": 11
        }
      ]
    },
    {
      "cell_type": "markdown",
      "metadata": {
        "id": "g2MFQmsoLNtC",
        "colab_type": "text"
      },
      "source": [
        "Google Text to Speech"
      ]
    },
    {
      "cell_type": "code",
      "metadata": {
        "id": "7duX5JppLRgm",
        "colab_type": "code",
        "outputId": "a4678a0f-5a26-4293-f249-939ffa81cb68",
        "colab": {
          "base_uri": "https://localhost:8080/",
          "height": 54
        }
      },
      "source": [
        "mytext = respond(\"What's your name?\")\n",
        "  \n",
        "# Language in which you want to convert \n",
        "language = 'en'\n",
        "  \n",
        "# Passing the text and language to the engine,  \n",
        "# here we have marked slow=False. Which tells  \n",
        "# the module that the converted audio should  \n",
        "# have a high speed \n",
        "myobj = gTTS(text=mytext, lang=language, slow=False) \n",
        "  \n",
        "# Saving the converted audio in a mp3 file named \n",
        "# welcome  \n",
        "myobj.save(\"welcome.mp3\") \n",
        "  \n",
        "# Playing the converted file \n",
        "os.system(\"mpg321 welcome.mp3\") \n",
        " "
      ],
      "execution_count": 12,
      "outputs": [
        {
          "output_type": "stream",
          "text": [
            "HrugVed : What's your name?\n"
          ],
          "name": "stdout"
        },
        {
          "output_type": "execute_result",
          "data": {
            "text/plain": [
              "32512"
            ]
          },
          "metadata": {
            "tags": []
          },
          "execution_count": 12
        }
      ]
    }
  ]
}